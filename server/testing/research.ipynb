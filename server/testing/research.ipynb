{
 "cells": [
  {
   "cell_type": "markdown",
   "source": [
    "# Recommendation System Model Anaylsis\n",
    "Research on data fetching, modeling, and machine learning for a social media recommendation system"
   ],
   "metadata": {}
  },
  {
   "cell_type": "markdown",
   "source": [
    "## API Configuration Testing"
   ],
   "metadata": {}
  },
  {
   "cell_type": "code",
   "execution_count": 6,
   "source": [
    "import sys\n",
    "sys.path.append('../')"
   ],
   "outputs": [],
   "metadata": {}
  },
  {
   "cell_type": "markdown",
   "source": [
    "Twitter API Testing"
   ],
   "metadata": {}
  },
  {
   "cell_type": "code",
   "execution_count": 7,
   "source": [
    "from twitter import TwitterAPI"
   ],
   "outputs": [],
   "metadata": {}
  },
  {
   "cell_type": "code",
   "execution_count": 8,
   "source": [
    "twitter_api = TwitterAPI()"
   ],
   "outputs": [],
   "metadata": {}
  },
  {
   "cell_type": "code",
   "execution_count": 13,
   "source": [
    "# Get Retweeters\n",
    "retweeters = twitter_api.retweeters('1417945380029751296', 5)\n",
    "retweeters"
   ],
   "outputs": [
    {
     "output_type": "execute_result",
     "data": {
      "text/plain": [
       "[1437428060442275858,\n",
       " 1072697952,\n",
       " 1436113843206320132,\n",
       " 937978958855000064,\n",
       " 988828070747541505]"
      ]
     },
     "metadata": {},
     "execution_count": 13
    }
   ],
   "metadata": {}
  },
  {
   "cell_type": "code",
   "execution_count": 28,
   "source": [
    "input_tweets = ['1417945380029751296','1443278205582983168']"
   ],
   "outputs": [],
   "metadata": {}
  },
  {
   "cell_type": "code",
   "execution_count": 29,
   "source": [
    "tweets = {}\n",
    "interactors = {}\n",
    "authors = set()"
   ],
   "outputs": [],
   "metadata": {}
  },
  {
   "cell_type": "code",
   "execution_count": 30,
   "source": [
    "class Tweet:\n",
    "    def __init__(self, tweet):\n",
    "        self.data = tweet\n",
    "        self.id = tweet['id']\n",
    "        self.author = tweet['user']['id']\n",
    "        self.text = tweet['text']\n",
    "        self.sim_score = 0  # content-based similarity score\n",
    "        self.collab_score = 0  # user-based collaborative score\n",
    "        self.overall_score = 0  # DNN final score"
   ],
   "outputs": [],
   "metadata": {}
  },
  {
   "cell_type": "code",
   "execution_count": 31,
   "source": [
    "# fetch data from each input tweet\n",
    "for tweet_id in input_tweets:\n",
    "    tweet_json = twitter_api.tweet_info(tweet_id)\n",
    "    tweet = Tweet(tweet_json)\n",
    "    tweets[tweet.id] = tweet\n",
    "\n",
    "    # add author\n",
    "    authors.add(tweet.author)\n",
    "\n",
    "    # add retweeters and update interactions\n",
    "    retweeters = twitter_api.retweeters(tweet_id, 20)\n",
    "    for user_id in retweeters:\n",
    "        if user_id in interactors:\n",
    "            interactors[user_id].add(tweet.id)\n",
    "        else:\n",
    "            interactors[user_id] = {tweet.id}"
   ],
   "outputs": [],
   "metadata": {}
  },
  {
   "cell_type": "code",
   "execution_count": 32,
   "source": [
    "tweets"
   ],
   "outputs": [
    {
     "output_type": "execute_result",
     "data": {
      "text/plain": [
       "{1417945380029751296: <__main__.Tweet at 0x7fdf803c5d30>,\n",
       " 1443278205582983168: <__main__.Tweet at 0x7fdf80e6f860>}"
      ]
     },
     "metadata": {},
     "execution_count": 32
    }
   ],
   "metadata": {}
  },
  {
   "cell_type": "code",
   "execution_count": 33,
   "source": [
    "retweeters[:3]"
   ],
   "outputs": [
    {
     "output_type": "execute_result",
     "data": {
      "text/plain": [
       "[1295666711262240768, 1346918022091468800, 1440410676430708744]"
      ]
     },
     "metadata": {},
     "execution_count": 33
    }
   ],
   "metadata": {}
  },
  {
   "cell_type": "code",
   "execution_count": 34,
   "source": [
    "# for each author get their /user_timeline and /favorites_list\n",
    "for author in authors:\n",
    "    timeline_tweets = twitter_api.user_timeline(author)\n",
    "\n",
    "    # update interactions w/ author's interactions\n",
    "    if author in interactors:\n",
    "        interactors[author].update([tweet['id'] for tweet in timeline_tweets])\n",
    "    else:\n",
    "        interactors[author] = set([tweet['id'] for tweet in timeline_tweets])\n",
    "\n",
    "    # add author's tweets\n",
    "    for tweet in timeline_tweets:\n",
    "        if tweet['id'] not in tweets:\n",
    "            tweets[tweet['id']] = Tweet(tweet)"
   ],
   "outputs": [],
   "metadata": {}
  },
  {
   "cell_type": "code",
   "execution_count": 35,
   "source": [
    "interactors"
   ],
   "outputs": [
    {
     "output_type": "execute_result",
     "data": {
      "text/plain": [
       "{1437428060442275858: {1417945380029751296},\n",
       " 1072697952: {1417945380029751296},\n",
       " 1436113843206320132: {1417945380029751296},\n",
       " 937978958855000064: {1417945380029751296},\n",
       " 988828070747541505: {1417945380029751296},\n",
       " 1436884559585447937: {1417945380029751296},\n",
       " 1237861039829422083: {1417945380029751296},\n",
       " 1349191347740110849: {1417945380029751296},\n",
       " 14891619: {1417945380029751296},\n",
       " 1435477485064318978: {1417945380029751296},\n",
       " 784543220554489857: {1417945380029751296},\n",
       " 1398922777093148674: {1417945380029751296},\n",
       " 20557070: {1417945380029751296},\n",
       " 1022205261841346560: {1417945380029751296},\n",
       " 1432356215397433348: {1417945380029751296},\n",
       " 1347351988653101056: {1417945380029751296},\n",
       " 1400300466064347137: {1417945380029751296},\n",
       " 1495493707: {1417945380029751296},\n",
       " 1428273654664777729: {1417945380029751296},\n",
       " 1374024046933729280: {1417945380029751296},\n",
       " 1295666711262240768: {1443278205582983168},\n",
       " 1346918022091468800: {1443278205582983168},\n",
       " 1440410676430708744: {1443278205582983168},\n",
       " 2342689724: {1443278205582983168},\n",
       " 1357190748207202307: {1443278205582983168},\n",
       " 1384556691522342915: {1443278205582983168},\n",
       " 1013506948866560001: {1443278205582983168},\n",
       " 1888319437: {1443278205582983168},\n",
       " 1402348049733652480: {1443278205582983168},\n",
       " 743287719124557824: {1443278205582983168},\n",
       " 127157319: {1443278205582983168},\n",
       " 1388118233648087043: {1443278205582983168},\n",
       " 69767375: {1443278205582983168},\n",
       " 1435246335234658305: {1443278205582983168},\n",
       " 2815703720: {1443278205582983168},\n",
       " 395185059: {1443278205582983168},\n",
       " 1075300244395606016: {1443278205582983168},\n",
       " 1161437698248212482: {1443278205582983168},\n",
       " 1358820169292906496: {1443278205582983168},\n",
       " 1354479142427709442: {1443278205582983168},\n",
       " 1364067948437061632: {1441925408748883971,\n",
       "  1441947328479260675,\n",
       "  1442006760278089729,\n",
       "  1442122912455172103,\n",
       "  1442322776040230921,\n",
       "  1442323824561766403,\n",
       "  1442514153705545730,\n",
       "  1442894879319740424,\n",
       "  1442908096192397314,\n",
       "  1442909367104270337,\n",
       "  1442948228253552647,\n",
       "  1443018644213096449,\n",
       "  1443019815086694404,\n",
       "  1443043887543734277,\n",
       "  1443278205582983168,\n",
       "  1443336771253817347,\n",
       "  1443339593105956868,\n",
       "  1443342977796018180,\n",
       "  1443354271177715719,\n",
       "  1443366436634861571},\n",
       " 951586147611930629: {1222299330985390080,\n",
       "  1228039791427538944,\n",
       "  1228044142590083072,\n",
       "  1228074576342474758,\n",
       "  1229511435962609664,\n",
       "  1230283881560997888,\n",
       "  1230312718583775236,\n",
       "  1240360270469324800,\n",
       "  1242896746209898496,\n",
       "  1243556724780351488,\n",
       "  1243562136179073025,\n",
       "  1245135425502621696,\n",
       "  1245135858631499776,\n",
       "  1258429383460585473,\n",
       "  1263595781228879872,\n",
       "  1275135069972131840,\n",
       "  1301603217105514498,\n",
       "  1315714918537019392,\n",
       "  1389556695941238791,\n",
       "  1417945380029751296}}"
      ]
     },
     "metadata": {},
     "execution_count": 35
    }
   ],
   "metadata": {}
  },
  {
   "cell_type": "code",
   "execution_count": 36,
   "source": [
    "# for each interactor (retweeters and authors) get their /favorites_list\n",
    "for user in interactors:\n",
    "    favorited_tweets = twitter_api.favorite_list(user)\n",
    "    interactors[user].update([tweet['id'] for tweet in favorited_tweets])\n",
    "\n",
    "    for tweet in favorited_tweets:\n",
    "        if tweet['id'] not in tweets:\n",
    "            tweets[tweet['id']] = Tweet(tweet)"
   ],
   "outputs": [],
   "metadata": {}
  },
  {
   "cell_type": "code",
   "execution_count": null,
   "source": [],
   "outputs": [],
   "metadata": {}
  }
 ],
 "metadata": {
  "orig_nbformat": 4,
  "language_info": {
   "name": "python",
   "version": "3.7.3",
   "mimetype": "text/x-python",
   "codemirror_mode": {
    "name": "ipython",
    "version": 3
   },
   "pygments_lexer": "ipython3",
   "nbconvert_exporter": "python",
   "file_extension": ".py"
  },
  "kernelspec": {
   "name": "python3",
   "display_name": "Python 3.7.3 64-bit ('env': venv)"
  },
  "interpreter": {
   "hash": "69dfc8415d48a65a0328f5ff00124c9e0caccde912347d5e49eaf92d8296fe72"
  }
 },
 "nbformat": 4,
 "nbformat_minor": 2
}